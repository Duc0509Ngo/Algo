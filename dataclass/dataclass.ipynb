{
 "cells": [
  {
   "cell_type": "markdown",
   "id": "74719fcf",
   "metadata": {},
   "source": [
    "# Dataclass"
   ]
  },
  {
   "cell_type": "code",
   "execution_count": 35,
   "id": "610f5e04",
   "metadata": {},
   "outputs": [
    {
     "name": "stdout",
     "output_type": "stream",
     "text": [
      "['Field', 'FrozenInstanceError', 'FunctionType', 'GenericAlias', 'InitVar', 'KW_ONLY', 'MISSING', '_DataclassParams', '_EMPTY_METADATA', '_FIELD', '_FIELDS', '_FIELD_BASE', '_FIELD_CLASSVAR', '_FIELD_INITVAR', '_HAS_DEFAULT_FACTORY', '_HAS_DEFAULT_FACTORY_CLASS', '_KW_ONLY_TYPE', '_MISSING_TYPE', '_MODULE_IDENTIFIER_RE', '_PARAMS', '_POST_INIT_NAME', '__all__', '__builtins__', '__cached__', '__doc__', '__file__', '__loader__', '__name__', '__package__', '__spec__', '_add_slots', '_asdict_inner', '_astuple_inner', '_cmp_fn', '_create_fn', '_dataclass_getstate', '_dataclass_setstate', '_field_assign', '_field_init', '_fields_in_init_order', '_frozen_get_del_attr', '_get_field', '_hash_action', '_hash_add', '_hash_exception', '_hash_fn', '_hash_set_none', '_init_fn', '_init_param', '_is_classvar', '_is_dataclass_instance', '_is_initvar', '_is_kw_only', '_is_type', '_process_class', '_recursive_repr', '_repr_fn', '_set_new_attribute', '_set_qualname', '_thread', '_tuple_str', 'abc', 'asdict', 'astuple', 'builtins', 'copy', 'dataclass', 'field', 'fields', 'functools', 'inspect', 'is_dataclass', 'keyword', 'make_dataclass', 're', 'replace', 'sys', 'types']\n"
     ]
    }
   ],
   "source": [
    "from dataclasses import dataclass, field, asdict, fields\n",
    "\n",
    "print(dir(dataclasses))"
   ]
  },
  {
   "cell_type": "code",
   "execution_count": 36,
   "id": "dec4210f",
   "metadata": {},
   "outputs": [],
   "source": [
    "@dataclass\n",
    "class Point:\n",
    "    x: int\n",
    "    y: int\n",
    "        \n",
    "@dataclass\n",
    "class C:\n",
    "    my_list: list[Point]"
   ]
  },
  {
   "cell_type": "code",
   "execution_count": 37,
   "id": "a6227963",
   "metadata": {},
   "outputs": [
    {
     "name": "stdout",
     "output_type": "stream",
     "text": [
      "(Field(name='x',type=<class 'int'>,default=<dataclasses._MISSING_TYPE object at 0x10cb81b70>,default_factory=<dataclasses._MISSING_TYPE object at 0x10cb81b70>,init=True,repr=True,hash=None,compare=True,metadata=mappingproxy({}),kw_only=False,_field_type=_FIELD), Field(name='y',type=<class 'int'>,default=<dataclasses._MISSING_TYPE object at 0x10cb81b70>,default_factory=<dataclasses._MISSING_TYPE object at 0x10cb81b70>,init=True,repr=True,hash=None,compare=True,metadata=mappingproxy({}),kw_only=False,_field_type=_FIELD))\n"
     ]
    }
   ],
   "source": [
    "c = Point(10, 20)\n",
    "print(fields(c))"
   ]
  }
 ],
 "metadata": {
  "kernelspec": {
   "display_name": "Python 3 (ipykernel)",
   "language": "python",
   "name": "python3"
  },
  "language_info": {
   "codemirror_mode": {
    "name": "ipython",
    "version": 3
   },
   "file_extension": ".py",
   "mimetype": "text/x-python",
   "name": "python",
   "nbconvert_exporter": "python",
   "pygments_lexer": "ipython3",
   "version": "3.10.5"
  }
 },
 "nbformat": 4,
 "nbformat_minor": 5
}
